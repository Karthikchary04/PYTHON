{
 "cells": [
  {
   "cell_type": "code",
   "execution_count": 1,
   "metadata": {},
   "outputs": [
    {
     "name": "stdout",
     "output_type": "stream",
     "text": [
      "enter amount to print notes: 6790\n",
      "you've entered invalid amount\n",
      "Suggested amount: 6800\n",
      "Do you want to print Suggested amount \n",
      " 1.YES \n",
      " 2.NO\n",
      "choose option1\n",
      "2000 notes are: 3\n",
      "500 notes are: 1\n",
      "100 notes are: 3\n"
     ]
    }
   ],
   "source": [
    "## MINIMUM NUMBER OF NOTES OF GIVEN AMOUNT\n",
    "a=b=c=rem=opt=eamt=0\n",
    "def Notes(amt):\n",
    "    if amt%100==0:\n",
    "        if amt>=2000:\n",
    "            a=int(amt/2000)\n",
    "            amt=amt-(a*2000)\n",
    "            print(\"2000 notes are:\",a)\n",
    "        if amt>=500:\n",
    "            b=int(amt/500)\n",
    "            amt=amt-(b*500)\n",
    "            print(\"500 notes are:\",b)\n",
    "        if(amt>=100):\n",
    "            c=int(amt/100)\n",
    "            print(\"100 notes are:\",c)\n",
    "    else:\n",
    "        print(\"you've entered invalid amount\")\n",
    "        rem=amt%100\n",
    "        if rem>50:\n",
    "            amt=(amt-rem)+100\n",
    "            print(\"Suggested amount:\",amt)\n",
    "        else:\n",
    "            amt=amt-rem\n",
    "            print(\"Suggested amount:\",amt)\n",
    "        print(\"Do you want to print Suggested amount \\n 1.YES \\n 2.NO\")\n",
    "        opt=int(input(\"choose option\"))\n",
    "        if opt==1:\n",
    "            Notes(amt)\n",
    "        else:\n",
    "            eamt=int(input(\"enter valid emount\"))\n",
    "            Notes(eamt)\n",
    "\n",
    "amt=int(input(\"enter amount to print notes: \"))\n",
    "Notes(amt)"
   ]
  },
  {
   "cell_type": "code",
   "execution_count": 14,
   "metadata": {},
   "outputs": [
    {
     "name": "stdout",
     "output_type": "stream",
     "text": [
      "enter number32\n",
      "not a perfect number\n"
     ]
    }
   ],
   "source": [
    "##PERFECT NUMBER\n",
    "num=int(input(\"enter number\"))\n",
    "i=1\n",
    "Sum=0\n",
    "for i in range (1,num):\n",
    "    if num%i==0:\n",
    "        Sum=Sum+i\n",
    "if num==Sum:\n",
    "    print(\"perfect number\")\n",
    "else:\n",
    "    print(\"not a perfect number\")"
   ]
  },
  {
   "cell_type": "code",
   "execution_count": 23,
   "metadata": {},
   "outputs": [
    {
     "name": "stdout",
     "output_type": "stream",
     "text": [
      "enter number50\n",
      "1\n",
      "2\n",
      "5\n"
     ]
    }
   ],
   "source": [
    "##PRIME FACTORS OF A GIVEN NUMBER\n",
    "num=int(input(\"enter number\"))\n",
    "pc=1\n",
    "j=0\n",
    "i=0\n",
    "for i in range (1,num):\n",
    "    if(num%i==0):\n",
    "        for j in range (1,i):\n",
    "            if(i%j==0):\n",
    "                pc=pc+1\n",
    "        if pc==1:\n",
    "            print(i)\n",
    "        pc=0"
   ]
  }
 ],
 "metadata": {
  "kernelspec": {
   "display_name": "Python 3",
   "language": "python",
   "name": "python3"
  },
  "language_info": {
   "codemirror_mode": {
    "name": "ipython",
    "version": 3
   },
   "file_extension": ".py",
   "mimetype": "text/x-python",
   "name": "python",
   "nbconvert_exporter": "python",
   "pygments_lexer": "ipython3",
   "version": "3.7.4"
  }
 },
 "nbformat": 4,
 "nbformat_minor": 2
}
