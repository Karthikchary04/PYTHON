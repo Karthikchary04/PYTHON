{
 "cells": [
  {
   "cell_type": "code",
   "execution_count": 1,
   "metadata": {},
   "outputs": [
    {
     "name": "stdout",
     "output_type": "stream",
     "text": [
      "enter number145\n",
      "strong number\n"
     ]
    }
   ],
   "source": [
    "##STRONG NUMBER\n",
    "num=int(input(\"enter number\"))\n",
    "temp=num\n",
    "rem=0\n",
    "i=1\n",
    "fact=1\n",
    "Sum=0\n",
    "while num!=0:\n",
    "    rem=num%10\n",
    "    for i in range (1,(rem+1)):\n",
    "                    fact=fact*i\n",
    "    Sum=Sum+fact\n",
    "    num=int(num/10)\n",
    "    rem=0\n",
    "    fact=1\n",
    "num=temp\n",
    "if(Sum==num):\n",
    "    print(\"strong number\")\n",
    "else:\n",
    "    print(\"not a strong number\")"
   ]
  },
  {
   "cell_type": "code",
   "execution_count": 5,
   "metadata": {},
   "outputs": [
    {
     "name": "stdout",
     "output_type": "stream",
     "text": [
      "enter i value: 1\n",
      "enter n value: 500\n",
      "1\n",
      "2\n",
      "3\n",
      "4\n",
      "5\n",
      "6\n",
      "7\n",
      "8\n",
      "9\n",
      "153\n",
      "370\n",
      "371\n",
      "407\n"
     ]
    }
   ],
   "source": [
    "##ARMSTRONG NUMBERS BETWEEN TWO NUMBERS\n",
    "def ArmstrongNumber(i,n):\n",
    "    temp=0\n",
    "    digits=0\n",
    "    rem=0\n",
    "    Sum=0\n",
    "    while i<=n:\n",
    "        temp=i\n",
    "        while i!=0:\n",
    "            digits=digits+1\n",
    "            i=int(i/10)\n",
    "        i=temp\n",
    "        while i!=0:\n",
    "            rem=i%10\n",
    "            Sum=Sum+pow(rem,digits)\n",
    "            i=int(i/10)\n",
    "            rem=0\n",
    "        i=temp\n",
    "        if Sum==i:\n",
    "            print(i)       \n",
    "        i=i+1\n",
    "        Sum=0\n",
    "        digits=0\n",
    "i=int(int(input(\"enter i value: \")))        \n",
    "n=int(input(\"enter n value: \"))\n",
    "ArmstrongNumber(i,n)"
   ]
  },
  {
   "cell_type": "code",
   "execution_count": 5,
   "metadata": {},
   "outputs": [
    {
     "name": "stdout",
     "output_type": "stream",
     "text": [
      "enter i value1\n",
      "enter n value10000000\n",
      "1\n",
      "2\n",
      "145\n",
      "40585\n"
     ]
    }
   ],
   "source": [
    "##STRONG NUMBERS BETWEEN TWO NUMBERS\n",
    "def StrongNumber(i,n):\n",
    "    rem=0\n",
    "    j=1\n",
    "    Sum=0\n",
    "    fact=1\n",
    "    while i<=n:\n",
    "        temp=i\n",
    "        while i!=0:\n",
    "            rem=i%10\n",
    "            for j in range(1,rem+1):\n",
    "                fact=fact*j\n",
    "            Sum=Sum+fact\n",
    "            fact=1\n",
    "            rem=0\n",
    "            i=int(i/10)\n",
    "        i=temp\n",
    "        if Sum==i:\n",
    "            print(i)\n",
    "        Sum=0\n",
    "        i=i+1\n",
    "first=int(input(\"enter i value\"))\n",
    "second=int(input(\"enter n value\"))\n",
    "StrongNumber(first,second)            "
   ]
  },
  {
   "cell_type": "code",
   "execution_count": null,
   "metadata": {},
   "outputs": [],
   "source": [
    "##ARMSTRONG NUMBER\n",
    "num=int(input(\"enter number: \"))\n",
    "digits=0\n",
    "rem=0\n",
    "Sum=0\n",
    "temp=num\n",
    "while num!=0:   \n",
    "    digits=digits+1\n",
    "    num=int(num/10)\n",
    "num=temp\n",
    "while num!=0:\n",
    "    rem=num%10\n",
    "    Sum=Sum+pow(rem,digits)\n",
    "    num=int(num/10)\n",
    "    rem=0\n",
    "num=temp\n",
    "if Sum==num:\n",
    "    print(\"Armstrong number\")\n",
    "else:\n",
    "    print(\"not an armstrong number\")"
   ]
  },
  {
   "cell_type": "code",
   "execution_count": null,
   "metadata": {},
   "outputs": [],
   "source": [
    "1"
   ]
  }
 ],
 "metadata": {
  "kernelspec": {
   "display_name": "Python 3",
   "language": "python",
   "name": "python3"
  },
  "language_info": {
   "codemirror_mode": {
    "name": "ipython",
    "version": 3
   },
   "file_extension": ".py",
   "mimetype": "text/x-python",
   "name": "python",
   "nbconvert_exporter": "python",
   "pygments_lexer": "ipython3",
   "version": "3.7.4"
  }
 },
 "nbformat": 4,
 "nbformat_minor": 2
}
