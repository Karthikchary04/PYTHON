{
 "cells": [
  {
   "cell_type": "code",
   "execution_count": 1,
   "metadata": {},
   "outputs": [
    {
     "name": "stdout",
     "output_type": "stream",
     "text": [
      "Enter 1st value:2\n",
      "Enter 2nd value:3\n",
      "Enter 3rd value:4\n",
      "Enter 4th value:5\n",
      "Enter 5th value:6\n",
      "your list is: [2, 3, 4, 5, 6]\n"
     ]
    }
   ],
   "source": [
    "a=int(input(\"Enter 1st value:\"))\n",
    "b=int(input(\"Enter 2nd value:\"))\n",
    "c=int(input(\"Enter 3rd value:\"))\n",
    "d=int(input(\"Enter 4th value:\"))\n",
    "e=int(input(\"Enter 5th value:\"))\n",
    "my_list=[a,b,c,d,e]\n",
    "print(\"your list is:\",my_list)"
   ]
  },
  {
   "cell_type": "code",
   "execution_count": 2,
   "metadata": {},
   "outputs": [
    {
     "name": "stdout",
     "output_type": "stream",
     "text": [
      "a is greater than b\n"
     ]
    }
   ],
   "source": [
    "a=10\n",
    "b=5\n",
    "if a>b:\n",
    "    print(\"a is greater than b\")"
   ]
  },
  {
   "cell_type": "code",
   "execution_count": 3,
   "metadata": {},
   "outputs": [
    {
     "name": "stdout",
     "output_type": "stream",
     "text": [
      "a is greater than b\n"
     ]
    }
   ],
   "source": [
    "a=10\n",
    "b=5\n",
    "if a<b:\n",
    "    print(\"a is less than b\")\n",
    "else:\n",
    "    print(\"a is greater than b\")\n",
    "    "
   ]
  },
  {
   "cell_type": "code",
   "execution_count": 2,
   "metadata": {},
   "outputs": [
    {
     "name": "stdout",
     "output_type": "stream",
     "text": [
      "enter character: a\n",
      "ch is lowercase alphabet\n"
     ]
    }
   ],
   "source": [
    "ch=input(\"enter character: \")\n",
    "if ch>='a' and ch<='z':\n",
    "    print(\"ch is lowercase alphabet\")\n",
    "elif ch>='A' and ch<='Z':\n",
    "    print(\"ch is uppercase alphabet\")\n",
    "else:\n",
    "    print(\"ch is a spacila character\")"
   ]
  },
  {
   "cell_type": "code",
   "execution_count": 1,
   "metadata": {},
   "outputs": [
    {
     "name": "stdout",
     "output_type": "stream",
     "text": [
      "enter character: 0\n",
      "number is zero\n"
     ]
    }
   ],
   "source": [
    "num=int(input(\"enter number: \"))\n",
    "if num==0:\n",
    "    print(\"number is zero\")\n",
    "elif num%2==0:\n",
    "    print(\"number is even\")\n",
    "else:\n",
    "    print(\"number is odd\")"
   ]
  },
  {
   "cell_type": "code",
   "execution_count": 17,
   "metadata": {},
   "outputs": [
    {
     "name": "stdout",
     "output_type": "stream",
     "text": [
      "enter number to check prime or not: 4\n",
      "4 :is not a prime number\n"
     ]
    }
   ],
   "source": [
    "num=int(input(\"enter number to check prime or not: \"))\n",
    "count=0\n",
    "\n",
    "for i in range (1,int(num)):\n",
    "    if num%i==0:\n",
    "        count+=1\n",
    "if count==1:\n",
    "    print(num,\":is prime number\")\n",
    "else:\n",
    "    print(num,\":is not a prime number\")"
   ]
  },
  {
   "cell_type": "markdown",
   "metadata": {},
   "source": [
    "# ARMSTRONG NUMBER"
   ]
  },
  {
   "cell_type": "code",
   "execution_count": 18,
   "metadata": {},
   "outputs": [
    {
     "name": "stdout",
     "output_type": "stream",
     "text": [
      "enter number: 153\n",
      "Armstrong number\n"
     ]
    }
   ],
   "source": [
    "num=int(input(\"enter number: \"))\n",
    "digits=0\n",
    "rem=0\n",
    "Sum=0\n",
    "temp=num\n",
    "while num!=0:   \n",
    "    digits=digits+1\n",
    "    num=int(num/10)\n",
    "num=temp\n",
    "while num!=0:\n",
    "    rem=num%10\n",
    "    Sum=Sum+pow(rem,digits)\n",
    "    num=int(num/10)\n",
    "    rem=0\n",
    "num=temp\n",
    "if Sum==num:\n",
    "    print(\"Armstrong number\")\n",
    "else:\n",
    "    print(\"not an armstrong number\")"
   ]
  },
  {
   "cell_type": "code",
   "execution_count": null,
   "metadata": {},
   "outputs": [],
   "source": []
  },
  {
   "cell_type": "code",
   "execution_count": null,
   "metadata": {},
   "outputs": [],
   "source": []
  }
 ],
 "metadata": {
  "kernelspec": {
   "display_name": "Python 3",
   "language": "python",
   "name": "python3"
  },
  "language_info": {
   "codemirror_mode": {
    "name": "ipython",
    "version": 3
   },
   "file_extension": ".py",
   "mimetype": "text/x-python",
   "name": "python",
   "nbconvert_exporter": "python",
   "pygments_lexer": "ipython3",
   "version": "3.7.4"
  }
 },
 "nbformat": 4,
 "nbformat_minor": 2
}
